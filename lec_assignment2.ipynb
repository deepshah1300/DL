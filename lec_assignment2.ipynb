{
  "nbformat": 4,
  "nbformat_minor": 0,
  "metadata": {
    "colab": {
      "name": "lec_assignment2.ipynb",
      "provenance": [],
      "authorship_tag": "ABX9TyMrUEcHxT3DrXzAv3cFRCuP",
      "include_colab_link": true
    },
    "kernelspec": {
      "name": "python3",
      "display_name": "Python 3"
    },
    "language_info": {
      "name": "python"
    }
  },
  "cells": [
    {
      "cell_type": "markdown",
      "metadata": {
        "id": "view-in-github",
        "colab_type": "text"
      },
      "source": [
        "<a href=\"https://colab.research.google.com/github/deepshah1300/DL/blob/deepshah1300-patch-1/lec_assignment2.ipynb\" target=\"_parent\"><img src=\"https://colab.research.google.com/assets/colab-badge.svg\" alt=\"Open In Colab\"/></a>"
      ]
    },
    {
      "cell_type": "markdown",
      "metadata": {
        "id": "XLrf0BPAywoI"
      },
      "source": [
        "**LECTURE ASSIGNMENT 2: STOCK MARKET PREDICTION**"
      ]
    },
    {
      "cell_type": "code",
      "metadata": {
        "id": "JrJqtwBRytNl"
      },
      "source": [
        "import math \n",
        "import pandas_datareader as web\n",
        "import numpy as np\n",
        "import pandas as pd\n",
        "from sklearn.preprocessing import MinMaxScaler\n",
        "from keras.models import Sequential\n",
        "from keras.layers import Dense, LSTM\n",
        "import matplotlib.pyplot as plt\n",
        "plt.style.use('fivethirtyeight')"
      ],
      "execution_count": 1,
      "outputs": []
    },
    {
      "cell_type": "code",
      "metadata": {
        "id": "r-SWFxuHy6tg"
      },
      "source": [
        "data = web.DataReader('BRITANNIA.NS', data_source='yahoo', start='2016-01-01', end='2021-2-25')"
      ],
      "execution_count": 2,
      "outputs": []
    },
    {
      "cell_type": "code",
      "metadata": {
        "colab": {
          "base_uri": "https://localhost:8080/",
          "height": 450
        },
        "id": "f9OdNJUKy-On",
        "outputId": "3a4e34e8-9927-43fc-a2b8-8386b79cbb83"
      },
      "source": [
        "data"
      ],
      "execution_count": 3,
      "outputs": [
        {
          "output_type": "execute_result",
          "data": {
            "text/html": [
              "<div>\n",
              "<style scoped>\n",
              "    .dataframe tbody tr th:only-of-type {\n",
              "        vertical-align: middle;\n",
              "    }\n",
              "\n",
              "    .dataframe tbody tr th {\n",
              "        vertical-align: top;\n",
              "    }\n",
              "\n",
              "    .dataframe thead th {\n",
              "        text-align: right;\n",
              "    }\n",
              "</style>\n",
              "<table border=\"1\" class=\"dataframe\">\n",
              "  <thead>\n",
              "    <tr style=\"text-align: right;\">\n",
              "      <th></th>\n",
              "      <th>High</th>\n",
              "      <th>Low</th>\n",
              "      <th>Open</th>\n",
              "      <th>Close</th>\n",
              "      <th>Volume</th>\n",
              "      <th>Adj Close</th>\n",
              "    </tr>\n",
              "    <tr>\n",
              "      <th>Date</th>\n",
              "      <th></th>\n",
              "      <th></th>\n",
              "      <th></th>\n",
              "      <th></th>\n",
              "      <th></th>\n",
              "      <th></th>\n",
              "    </tr>\n",
              "  </thead>\n",
              "  <tbody>\n",
              "    <tr>\n",
              "      <th>2016-01-01</th>\n",
              "      <td>1501.675049</td>\n",
              "      <td>1481.199951</td>\n",
              "      <td>1481.199951</td>\n",
              "      <td>1493.199951</td>\n",
              "      <td>129486.0</td>\n",
              "      <td>1402.360718</td>\n",
              "    </tr>\n",
              "    <tr>\n",
              "      <th>2016-01-04</th>\n",
              "      <td>1502.224976</td>\n",
              "      <td>1476.000000</td>\n",
              "      <td>1490.000000</td>\n",
              "      <td>1486.300049</td>\n",
              "      <td>253614.0</td>\n",
              "      <td>1395.880615</td>\n",
              "    </tr>\n",
              "    <tr>\n",
              "      <th>2016-01-05</th>\n",
              "      <td>1496.275024</td>\n",
              "      <td>1475.150024</td>\n",
              "      <td>1488.550049</td>\n",
              "      <td>1483.349976</td>\n",
              "      <td>228500.0</td>\n",
              "      <td>1393.110107</td>\n",
              "    </tr>\n",
              "    <tr>\n",
              "      <th>2016-01-06</th>\n",
              "      <td>1503.000000</td>\n",
              "      <td>1476.500000</td>\n",
              "      <td>1476.500000</td>\n",
              "      <td>1500.849976</td>\n",
              "      <td>267276.0</td>\n",
              "      <td>1409.545410</td>\n",
              "    </tr>\n",
              "    <tr>\n",
              "      <th>2016-01-07</th>\n",
              "      <td>1497.425049</td>\n",
              "      <td>1455.525024</td>\n",
              "      <td>1495.000000</td>\n",
              "      <td>1473.275024</td>\n",
              "      <td>298800.0</td>\n",
              "      <td>1383.647949</td>\n",
              "    </tr>\n",
              "    <tr>\n",
              "      <th>...</th>\n",
              "      <td>...</td>\n",
              "      <td>...</td>\n",
              "      <td>...</td>\n",
              "      <td>...</td>\n",
              "      <td>...</td>\n",
              "      <td>...</td>\n",
              "    </tr>\n",
              "    <tr>\n",
              "      <th>2021-02-22</th>\n",
              "      <td>3373.750000</td>\n",
              "      <td>3317.300049</td>\n",
              "      <td>3350.000000</td>\n",
              "      <td>3341.199951</td>\n",
              "      <td>666371.0</td>\n",
              "      <td>3341.199951</td>\n",
              "    </tr>\n",
              "    <tr>\n",
              "      <th>2021-02-23</th>\n",
              "      <td>3368.000000</td>\n",
              "      <td>3325.300049</td>\n",
              "      <td>3349.800049</td>\n",
              "      <td>3335.949951</td>\n",
              "      <td>484686.0</td>\n",
              "      <td>3335.949951</td>\n",
              "    </tr>\n",
              "    <tr>\n",
              "      <th>2021-02-24</th>\n",
              "      <td>3415.000000</td>\n",
              "      <td>3341.000000</td>\n",
              "      <td>3360.000000</td>\n",
              "      <td>3405.550049</td>\n",
              "      <td>512568.0</td>\n",
              "      <td>3405.550049</td>\n",
              "    </tr>\n",
              "    <tr>\n",
              "      <th>2021-02-25</th>\n",
              "      <td>3425.699951</td>\n",
              "      <td>3374.600098</td>\n",
              "      <td>3420.000000</td>\n",
              "      <td>3405.000000</td>\n",
              "      <td>586357.0</td>\n",
              "      <td>3405.000000</td>\n",
              "    </tr>\n",
              "    <tr>\n",
              "      <th>2021-02-26</th>\n",
              "      <td>3408.949951</td>\n",
              "      <td>3343.000000</td>\n",
              "      <td>3389.000000</td>\n",
              "      <td>3363.750000</td>\n",
              "      <td>748717.0</td>\n",
              "      <td>3363.750000</td>\n",
              "    </tr>\n",
              "  </tbody>\n",
              "</table>\n",
              "<p>1272 rows × 6 columns</p>\n",
              "</div>"
            ],
            "text/plain": [
              "                   High          Low  ...    Volume    Adj Close\n",
              "Date                                  ...                       \n",
              "2016-01-01  1501.675049  1481.199951  ...  129486.0  1402.360718\n",
              "2016-01-04  1502.224976  1476.000000  ...  253614.0  1395.880615\n",
              "2016-01-05  1496.275024  1475.150024  ...  228500.0  1393.110107\n",
              "2016-01-06  1503.000000  1476.500000  ...  267276.0  1409.545410\n",
              "2016-01-07  1497.425049  1455.525024  ...  298800.0  1383.647949\n",
              "...                 ...          ...  ...       ...          ...\n",
              "2021-02-22  3373.750000  3317.300049  ...  666371.0  3341.199951\n",
              "2021-02-23  3368.000000  3325.300049  ...  484686.0  3335.949951\n",
              "2021-02-24  3415.000000  3341.000000  ...  512568.0  3405.550049\n",
              "2021-02-25  3425.699951  3374.600098  ...  586357.0  3405.000000\n",
              "2021-02-26  3408.949951  3343.000000  ...  748717.0  3363.750000\n",
              "\n",
              "[1272 rows x 6 columns]"
            ]
          },
          "metadata": {
            "tags": []
          },
          "execution_count": 3
        }
      ]
    },
    {
      "cell_type": "code",
      "metadata": {
        "colab": {
          "base_uri": "https://localhost:8080/"
        },
        "id": "bHZtCzbjzCVh",
        "outputId": "48c580c2-eb7e-46ca-96ea-1e55648d02bf"
      },
      "source": [
        "data.iloc[data.shape[0]-39:,3]"
      ],
      "execution_count": 4,
      "outputs": [
        {
          "output_type": "execute_result",
          "data": {
            "text/plain": [
              "Date\n",
              "2021-01-04    3552.899902\n",
              "2021-01-05    3551.100098\n",
              "2021-01-06    3539.699951\n",
              "2021-01-07    3552.800049\n",
              "2021-01-08    3575.250000\n",
              "2021-01-11    3612.850098\n",
              "2021-01-12    3631.649902\n",
              "2021-01-13    3621.149902\n",
              "2021-01-14    3665.449951\n",
              "2021-01-15    3609.050049\n",
              "2021-01-18    3607.850098\n",
              "2021-01-19    3601.250000\n",
              "2021-01-20    3592.300049\n",
              "2021-01-21    3630.800049\n",
              "2021-01-22    3608.000000\n",
              "2021-01-25    3613.550049\n",
              "2021-01-27    3610.750000\n",
              "2021-01-28    3603.750000\n",
              "2021-01-29    3501.100098\n",
              "2021-02-01    3520.750000\n",
              "2021-02-02    3501.250000\n",
              "2021-02-03    3516.500000\n",
              "2021-02-04    3580.000000\n",
              "2021-02-05    3541.649902\n",
              "2021-02-08    3473.699951\n",
              "2021-02-09    3462.399902\n",
              "2021-02-10    3424.850098\n",
              "2021-02-11    3462.750000\n",
              "2021-02-12    3421.250000\n",
              "2021-02-15    3417.000000\n",
              "2021-02-16    3389.449951\n",
              "2021-02-17    3364.000000\n",
              "2021-02-18    3359.449951\n",
              "2021-02-19    3331.199951\n",
              "2021-02-22    3341.199951\n",
              "2021-02-23    3335.949951\n",
              "2021-02-24    3405.550049\n",
              "2021-02-25    3405.000000\n",
              "2021-02-26    3363.750000\n",
              "Name: Close, dtype: float64"
            ]
          },
          "metadata": {
            "tags": []
          },
          "execution_count": 4
        }
      ]
    },
    {
      "cell_type": "code",
      "metadata": {
        "colab": {
          "base_uri": "https://localhost:8080/"
        },
        "id": "4W0rKO5VzGEM",
        "outputId": "306b08ed-6fa9-4a87-cf5d-26ccca62148c"
      },
      "source": [
        "data.shape"
      ],
      "execution_count": 5,
      "outputs": [
        {
          "output_type": "execute_result",
          "data": {
            "text/plain": [
              "(1272, 6)"
            ]
          },
          "metadata": {
            "tags": []
          },
          "execution_count": 5
        }
      ]
    },
    {
      "cell_type": "code",
      "metadata": {
        "colab": {
          "base_uri": "https://localhost:8080/",
          "height": 518
        },
        "id": "0izHTwP5zJlQ",
        "outputId": "14c69c16-08dc-453a-9b0c-96301e3cd5cc"
      },
      "source": [
        "plt.figure(figsize=(16,8))\n",
        "plt.title(\"Close Price History\")\n",
        "plt.plot(data['Close'])\n",
        "plt.xlabel('Date', fontsize=18)\n",
        "plt.ylabel('Close Price', fontsize=18)\n",
        "plt.show()"
      ],
      "execution_count": 6,
      "outputs": [
        {
          "output_type": "display_data",
          "data": {
            "image/png": "[encoded data removed]",
            "text/plain": [
              "<Figure size 1152x576 with 1 Axes>"
            ]
          },
          "metadata": {
            "tags": [],
            "needs_background": "light"
          }
        }
      ]
    },
    {
      "cell_type": "code",
      "metadata": {
        "colab": {
          "base_uri": "https://localhost:8080/"
        },
        "id": "5WPoqUu0zNq-",
        "outputId": "78cdfa8b-e9e4-4709-c3db-12182845ac2b"
      },
      "source": [
        "data = data.filter(['Close'])\n",
        "dataset = data.values\n",
        "training_data_len = data.shape[0]-39\n",
        "\n",
        "training_data_len"
      ],
      "execution_count": 7,
      "outputs": [
        {
          "output_type": "execute_result",
          "data": {
            "text/plain": [
              "1233"
            ]
          },
          "metadata": {
            "tags": []
          },
          "execution_count": 7
        }
      ]
    },
    {
      "cell_type": "code",
      "metadata": {
        "id": "le94nFBIzQl2"
      },
      "source": [
        "scaler = MinMaxScaler(feature_range=(0,1))\n",
        "scaled_data = scaler.fit_transform(dataset)\n"
      ],
      "execution_count": 8,
      "outputs": []
    },
    {
      "cell_type": "code",
      "metadata": {
        "colab": {
          "base_uri": "https://localhost:8080/"
        },
        "id": "05NVWCTDzUiS",
        "outputId": "37f5cac5-4dc6-48ce-ea0f-8944fbe0268d"
      },
      "source": [
        "scaled_data"
      ],
      "execution_count": 9,
      "outputs": [
        {
          "output_type": "execute_result",
          "data": {
            "text/plain": [
              "array([[0.07816925],\n",
              "       [0.07561426],\n",
              "       [0.07452186],\n",
              "       ...,\n",
              "       [0.78630284],\n",
              "       [0.78609916],\n",
              "       [0.77082449]])"
            ]
          },
          "metadata": {
            "tags": []
          },
          "execution_count": 9
        }
      ]
    },
    {
      "cell_type": "code",
      "metadata": {
        "colab": {
          "base_uri": "https://localhost:8080/"
        },
        "id": "OFKRg8frzXiz",
        "outputId": "8b3d80ea-4af8-4d19-d2ef-845aab883d7c"
      },
      "source": [
        "train_data = scaled_data[0:training_data_len, :]\n",
        "x_train, y_train = [], []\n",
        "\n",
        "for i in range(60, len(train_data)):\n",
        "  x_train.append(train_data[i-60:i,0])\n",
        "  y_train.append(train_data[i,0])\n",
        "  if i<=61:\n",
        "    print(x_train)\n",
        "    print(y_train)\n",
        "    print()"
      ],
      "execution_count": 10,
      "outputs": [
        {
          "output_type": "stream",
          "text": [
            "[array([0.07816925, 0.07561426, 0.07452186, 0.08100202, 0.07079116,\n",
            "       0.06259838, 0.06574589, 0.06961545, 0.06313529, 0.0617282 ,\n",
            "       0.05460924, 0.03723318, 0.0312529 , 0.02138453, 0.01027568,\n",
            "       0.00957212, 0.00710969, 0.01582084, 0.0196349 , 0.02318972,\n",
            "       0.04375036, 0.042334  , 0.04885118, 0.0540816 , 0.0552295 ,\n",
            "       0.05379461, 0.04052881, 0.02921628, 0.0129233 , 0.        ,\n",
            "       0.01882949, 0.01142359, 0.01629298, 0.03504843, 0.02967915,\n",
            "       0.04353746, 0.04407437, 0.03502989, 0.02254171, 0.02744811,\n",
            "       0.03555758, 0.05137842, 0.05529432, 0.05140622, 0.05387792,\n",
            "       0.04718485, 0.05065637, 0.05007313, 0.04663868, 0.04792544,\n",
            "       0.03602045, 0.02890154, 0.0246987 , 0.02251395, 0.03161393,\n",
            "       0.03467813, 0.02982728, 0.01136808, 0.00350854, 0.01375647])]\n",
            "[0.022643545230610518]\n",
            "\n",
            "[array([0.07816925, 0.07561426, 0.07452186, 0.08100202, 0.07079116,\n",
            "       0.06259838, 0.06574589, 0.06961545, 0.06313529, 0.0617282 ,\n",
            "       0.05460924, 0.03723318, 0.0312529 , 0.02138453, 0.01027568,\n",
            "       0.00957212, 0.00710969, 0.01582084, 0.0196349 , 0.02318972,\n",
            "       0.04375036, 0.042334  , 0.04885118, 0.0540816 , 0.0552295 ,\n",
            "       0.05379461, 0.04052881, 0.02921628, 0.0129233 , 0.        ,\n",
            "       0.01882949, 0.01142359, 0.01629298, 0.03504843, 0.02967915,\n",
            "       0.04353746, 0.04407437, 0.03502989, 0.02254171, 0.02744811,\n",
            "       0.03555758, 0.05137842, 0.05529432, 0.05140622, 0.05387792,\n",
            "       0.04718485, 0.05065637, 0.05007313, 0.04663868, 0.04792544,\n",
            "       0.03602045, 0.02890154, 0.0246987 , 0.02251395, 0.03161393,\n",
            "       0.03467813, 0.02982728, 0.01136808, 0.00350854, 0.01375647]), array([0.07561426, 0.07452186, 0.08100202, 0.07079116, 0.06259838,\n",
            "       0.06574589, 0.06961545, 0.06313529, 0.0617282 , 0.05460924,\n",
            "       0.03723318, 0.0312529 , 0.02138453, 0.01027568, 0.00957212,\n",
            "       0.00710969, 0.01582084, 0.0196349 , 0.02318972, 0.04375036,\n",
            "       0.042334  , 0.04885118, 0.0540816 , 0.0552295 , 0.05379461,\n",
            "       0.04052881, 0.02921628, 0.0129233 , 0.        , 0.01882949,\n",
            "       0.01142359, 0.01629298, 0.03504843, 0.02967915, 0.04353746,\n",
            "       0.04407437, 0.03502989, 0.02254171, 0.02744811, 0.03555758,\n",
            "       0.05137842, 0.05529432, 0.05140622, 0.05387792, 0.04718485,\n",
            "       0.05065637, 0.05007313, 0.04663868, 0.04792544, 0.03602045,\n",
            "       0.02890154, 0.0246987 , 0.02251395, 0.03161393, 0.03467813,\n",
            "       0.02982728, 0.01136808, 0.00350854, 0.01375647, 0.02264355])]\n",
            "[0.022643545230610518, 0.021264205582404327]\n",
            "\n"
          ],
          "name": "stdout"
        }
      ]
    },
    {
      "cell_type": "code",
      "metadata": {
        "id": "f3t3HkeXzbs5"
      },
      "source": [
        "x_train, y_train = np.array(x_train), np.array(y_train)"
      ],
      "execution_count": 11,
      "outputs": []
    },
    {
      "cell_type": "code",
      "metadata": {
        "colab": {
          "base_uri": "https://localhost:8080/"
        },
        "id": "NKU7_BTczhDT",
        "outputId": "f5c81f8f-0a65-4f55-dbcf-5d9f352f51b3"
      },
      "source": [
        "x_train = np.reshape(x_train, (x_train.shape[0], x_train.shape[1], 1))\n",
        "x_train.shape"
      ],
      "execution_count": 12,
      "outputs": [
        {
          "output_type": "execute_result",
          "data": {
            "text/plain": [
              "(1173, 60, 1)"
            ]
          },
          "metadata": {
            "tags": []
          },
          "execution_count": 12
        }
      ]
    },
    {
      "cell_type": "code",
      "metadata": {
        "id": "I1auYX4GziKD"
      },
      "source": [
        "model = Sequential()\n",
        "\n",
        "model.add(LSTM(50, return_sequences=True, input_shape = (x_train.shape[1],1)))\n",
        "model.add(LSTM(50, return_sequences=False))\n",
        "model.add(Dense(25))\n",
        "model.add(Dense(1))"
      ],
      "execution_count": 13,
      "outputs": []
    },
    {
      "cell_type": "code",
      "metadata": {
        "colab": {
          "base_uri": "https://localhost:8080/"
        },
        "id": "01eSfJTnzltZ",
        "outputId": "49dbca24-c0c9-41c9-a1cf-138ec69315a8"
      },
      "source": [
        "model.summary()"
      ],
      "execution_count": 14,
      "outputs": [
        {
          "output_type": "stream",
          "text": [
            "Model: \"sequential\"\n",
            "_________________________________________________________________\n",
            "Layer (type)                 Output Shape              Param #   \n",
            "=================================================================\n",
            "lstm (LSTM)                  (None, 60, 50)            10400     \n",
            "_________________________________________________________________\n",
            "lstm_1 (LSTM)                (None, 50)                20200     \n",
            "_________________________________________________________________\n",
            "dense (Dense)                (None, 25)                1275      \n",
            "_________________________________________________________________\n",
            "dense_1 (Dense)              (None, 1)                 26        \n",
            "=================================================================\n",
            "Total params: 31,901\n",
            "Trainable params: 31,901\n",
            "Non-trainable params: 0\n",
            "_________________________________________________________________\n"
          ],
          "name": "stdout"
        }
      ]
    },
    {
      "cell_type": "code",
      "metadata": {
        "id": "PkUnrBGUzokU"
      },
      "source": [
        "model.compile(optimizer='adam', loss='mean_squared_error')"
      ],
      "execution_count": 15,
      "outputs": []
    },
    {
      "cell_type": "code",
      "metadata": {
        "colab": {
          "base_uri": "https://localhost:8080/"
        },
        "id": "p3TkntHyzrKU",
        "outputId": "89a3d5c7-10a8-456d-a908-75970954d8d6"
      },
      "source": [
        "model.fit(x_train, y_train, batch_size=1, epochs=1)"
      ],
      "execution_count": 16,
      "outputs": [
        {
          "output_type": "stream",
          "text": [
            "1173/1173 [==============================] - 29s 22ms/step - loss: 0.0106\n"
          ],
          "name": "stdout"
        },
        {
          "output_type": "execute_result",
          "data": {
            "text/plain": [
              "<tensorflow.python.keras.callbacks.History at 0x7f14511e4c10>"
            ]
          },
          "metadata": {
            "tags": []
          },
          "execution_count": 16
        }
      ]
    },
    {
      "cell_type": "code",
      "metadata": {
        "id": "HX6ImQqrzuHu"
      },
      "source": [
        "test_data = scaled_data[training_data_len-60:,:]\n",
        "\n",
        "x_test, y_test = [], dataset[training_data_len:,:]\n",
        "\n",
        "for i in range(60, len(test_data)):\n",
        "  x_test.append(test_data[i-60:i,0])"
      ],
      "execution_count": 17,
      "outputs": []
    },
    {
      "cell_type": "code",
      "metadata": {
        "id": "OtDT7u8Dz3A1"
      },
      "source": [
        "x_test = np.array(x_test)"
      ],
      "execution_count": 18,
      "outputs": []
    },
    {
      "cell_type": "code",
      "metadata": {
        "id": "att0Jjpnz49P"
      },
      "source": [
        "x_test = np.reshape(x_test, (x_test.shape[0], x_test.shape[1], 1))"
      ],
      "execution_count": 19,
      "outputs": []
    },
    {
      "cell_type": "code",
      "metadata": {
        "id": "WcAMm3TPz7Lv"
      },
      "source": [
        "prediction = model.predict(x_test)\n",
        "prediction = scaler.inverse_transform(prediction)"
      ],
      "execution_count": 20,
      "outputs": []
    },
    {
      "cell_type": "code",
      "metadata": {
        "id": "yURkGNSn0ADw"
      },
      "source": [
        "rmse = np.sqrt(np.mean(prediction- y_test)**2)"
      ],
      "execution_count": 21,
      "outputs": []
    },
    {
      "cell_type": "code",
      "metadata": {
        "colab": {
          "base_uri": "https://localhost:8080/"
        },
        "id": "jIOCqQKH0CcF",
        "outputId": "0ac73354-72aa-4b51-a4b3-54453fe49f16"
      },
      "source": [
        "rmse"
      ],
      "execution_count": 22,
      "outputs": [
        {
          "output_type": "execute_result",
          "data": {
            "text/plain": [
              "169.61674303886218"
            ]
          },
          "metadata": {
            "tags": []
          },
          "execution_count": 22
        }
      ]
    },
    {
      "cell_type": "code",
      "metadata": {
        "colab": {
          "base_uri": "https://localhost:8080/"
        },
        "id": "ACFOq7qC0ELs",
        "outputId": "18c68bd1-6152-46d8-e666-6e329b4da8b7"
      },
      "source": [
        "train = data[:training_data_len]\n",
        "valid = data[training_data_len:]\n",
        "valid['Prediction'] = prediction \n",
        "valid['Error Precentage'] = ((valid['Close'] - valid['Prediction'])/valid['Close'])*100"
      ],
      "execution_count": 23,
      "outputs": [
        {
          "output_type": "stream",
          "text": [
            "/usr/local/lib/python3.7/dist-packages/ipykernel_launcher.py:3: SettingWithCopyWarning: \n",
            "A value is trying to be set on a copy of a slice from a DataFrame.\n",
            "Try using .loc[row_indexer,col_indexer] = value instead\n",
            "\n",
            "See the caveats in the documentation: https://pandas.pydata.org/pandas-docs/stable/user_guide/indexing.html#returning-a-view-versus-a-copy\n",
            "  This is separate from the ipykernel package so we can avoid doing imports until\n",
            "/usr/local/lib/python3.7/dist-packages/ipykernel_launcher.py:4: SettingWithCopyWarning: \n",
            "A value is trying to be set on a copy of a slice from a DataFrame.\n",
            "Try using .loc[row_indexer,col_indexer] = value instead\n",
            "\n",
            "See the caveats in the documentation: https://pandas.pydata.org/pandas-docs/stable/user_guide/indexing.html#returning-a-view-versus-a-copy\n",
            "  after removing the cwd from sys.path.\n"
          ],
          "name": "stderr"
        }
      ]
    },
    {
      "cell_type": "code",
      "metadata": {
        "id": "1gLPdSBL0Jbo"
      },
      "source": [
        "plt.figure(figsize=(16,8))\n",
        "plt.title(\"Model\")\n",
        "plt.xlabel('Date', fontsize=18)\n",
        "plt.ylabel('Close Price USD($)', fontsize=18)\n",
        "plt.plot(train['Close'])\n",
        "plt.plot(valid[['Close','Prediction']])\n",
        "plt.legend(['Train','Val','Prediction'], loc='lower right')\n",
        "plt.show()"
      ],
      "execution_count": null,
      "outputs": []
    },
    {
      "cell_type": "code",
      "metadata": {
        "id": "q7oCjtKe0Np9"
      },
      "source": [
        "valid"
      ],
      "execution_count": null,
      "outputs": []
    }
  ]
}